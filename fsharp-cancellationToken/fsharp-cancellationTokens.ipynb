{
 "cells": [
  {
   "cell_type": "markdown",
   "metadata": {},
   "source": [
    "Example 1 for Cancellation Tokens"
   ]
  },
  {
   "cell_type": "code",
   "execution_count": null,
   "metadata": {
    "dotnet_interactive": {
     "language": "fsharp"
    }
   },
   "outputs": [
    {
     "name": "stdout",
     "output_type": "stream",
     "text": [
      "Example 1\n",
      "Starting\n",
      "Waiting\n",
      "Cancelled\n"
     ]
    }
   ],
   "source": [
    "open System.Threading\n",
    "open System.Linq\n",
    "\n",
    "let busyWait () =\n",
    "    for _ in Enumerable.Repeat(0, 150000000) do\n",
    "        ()\n",
    "\n",
    "let task () =\n",
    "    async {\n",
    "        let! ct = Async.CancellationToken\n",
    "        printfn \"Starting\"\n",
    "        busyWait ()\n",
    "        printfn \"Waiting\"\n",
    "\n",
    "        if ct.IsCancellationRequested then\n",
    "            printfn \"Cancelled\"\n",
    "        else\n",
    "            busyWait ()\n",
    "            printfn \"Waiting\"\n",
    "\n",
    "            if ct.IsCancellationRequested then\n",
    "                printfn \"Canceled\"\n",
    "            else\n",
    "                busyWait ()\n",
    "                printfn \"Waiting\"\n",
    "\n",
    "                if ct.IsCancellationRequested then\n",
    "                    printfn \"Canceled\"\n",
    "                else\n",
    "                    busyWait ()\n",
    "                    printfn \"Completed\"\n",
    "    }\n",
    "\n",
    "let cts = new CancellationTokenSource()\n",
    "Async.Start(task (), cts.Token)\n",
    "cts.CancelAfter(100)\n",
    "Async.Sleep 1500 |> Async.RunSynchronously\n",
    "\n",
    "// System.Console.ReadKey() |> ignore\n"
   ]
  },
  {
   "cell_type": "markdown",
   "metadata": {},
   "source": [
    "Example 2 for Cancellation Tokens"
   ]
  },
  {
   "cell_type": "code",
   "execution_count": null,
   "metadata": {
    "dotnet_interactive": {
     "language": "fsharp"
    }
   },
   "outputs": [
    {
     "name": "stdout",
     "output_type": "stream",
     "text": [
      "Starting\n",
      "Waiting\n",
      "Waiting\n",
      "Waiting\n",
      "Waiting\n",
      "Waiting\n"
     ]
    }
   ],
   "source": [
    "let task () =\n",
    "    async {\n",
    "        let! ct = Async.CancellationToken\n",
    "        printfn \"Starting\"\n",
    "\n",
    "        while (ct.IsCancellationRequested = false) do\n",
    "            printfn \"Waiting\"\n",
    "\n",
    "            if ct.IsCancellationRequested then\n",
    "                printfn \"Cancelled\"\n",
    "\n",
    "            do! Async.Sleep(1000)\n",
    "\n",
    "            if ct.IsCancellationRequested then\n",
    "                printfn \"Cancelled\"\n",
    "\n",
    "        if ct.IsCancellationRequested then\n",
    "            printfn \"Cancelled\"\n",
    "    }\n",
    "\n",
    "let cts = new CancellationTokenSource()\n",
    "Async.Start(task (), cts.Token)\n",
    "cts.CancelAfter(5000)\n",
    "Async.Sleep 10000 |> Async.RunSynchronously\n",
    "// System.Console.ReadKey() |> ignore"
   ]
  }
 ],
 "metadata": {
  "kernelspec": {
   "display_name": ".NET (F#)",
   "language": "F#",
   "name": ".net-fsharp"
  },
  "language_info": {
   "name": "F#"
  }
 },
 "nbformat": 4,
 "nbformat_minor": 2
}
